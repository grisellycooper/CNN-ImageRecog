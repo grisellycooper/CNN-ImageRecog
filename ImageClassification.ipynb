{
 "cells": [
  {
   "cell_type": "markdown",
   "metadata": {},
   "source": [
    "## Train a simple deep CNN on the CIFAR10 small images dataset."
   ]
  },
  {
   "cell_type": "code",
   "execution_count": 26,
   "metadata": {},
   "outputs": [],
   "source": [
    "from __future__ import print_function\n",
    "import keras\n",
    "from keras.datasets import cifar10\n",
    "from keras.preprocessing.image import ImageDataGenerator\n",
    "from keras.models import Sequential\n",
    "from keras.layers import Dense, Dropout, Activation, Flatten\n",
    "from keras.layers import Conv2D, MaxPooling2D\n",
    "import os"
   ]
  },
  {
   "cell_type": "code",
   "execution_count": 27,
   "metadata": {},
   "outputs": [
    {
     "name": "stdout",
     "output_type": "stream",
     "text": [
      "x_train shape: (50000, 32, 32, 3)\n",
      "50000 train samples\n",
      "10000 test samples\n"
     ]
    }
   ],
   "source": [
    "batch_size = 32\n",
    "num_classes = 10\n",
    "epochs = 25\n",
    "data_augmentation = False\n",
    "num_predictions = 20\n",
    "save_dir = os.path.join(os.getcwd(), 'saved_models')\n",
    "model_name = 'keras_cifar10_trained_model.h5'\n",
    "\n",
    "# The data, split between train and test sets:\n",
    "(x_train, y_train), (x_test, y_test) = cifar10.load_data()\n",
    "print('x_train shape:', x_train.shape)\n",
    "print(x_train.shape[0], 'train samples')\n",
    "print(x_test.shape[0], 'test samples')\n",
    "\n",
    "# Convert class vectors to binary class matrices.\n",
    "y_train = keras.utils.to_categorical(y_train, num_classes)\n",
    "y_test = keras.utils.to_categorical(y_test, num_classes)\n"
   ]
  },
  {
   "cell_type": "code",
   "execution_count": 28,
   "metadata": {},
   "outputs": [],
   "source": [
    "model = Sequential()\n",
    "model.add(Conv2D(32, (3, 3), padding='same',\n",
    "                 input_shape=x_train.shape[1:]))\n",
    "model.add(Activation('relu'))\n",
    "model.add(Conv2D(32, (3, 3)))\n",
    "model.add(Activation('relu'))\n",
    "model.add(MaxPooling2D(pool_size=(2, 2)))\n",
    "model.add(Dropout(0.25))\n",
    "\n",
    "model.add(Conv2D(64, (3, 3), padding='same'))\n",
    "model.add(Activation('relu'))\n",
    "model.add(Conv2D(64, (3, 3)))\n",
    "model.add(Activation('relu'))\n",
    "model.add(MaxPooling2D(pool_size=(2, 2)))\n",
    "model.add(Dropout(0.25))\n",
    "\n",
    "model.add(Flatten())\n",
    "model.add(Dense(512))\n",
    "model.add(Activation('relu'))\n",
    "model.add(Dropout(0.5))\n",
    "model.add(Dense(num_classes))\n",
    "model.add(Activation('softmax'))\n",
    "\n",
    "# initiate RMSprop optimizer\n",
    "opt = keras.optimizers.rmsprop(lr=0.0001, decay=1e-6)\n",
    "\n",
    "# Let's train the model using RMSprop\n",
    "model.compile(loss='categorical_crossentropy',\n",
    "              optimizer=opt,\n",
    "              metrics=['accuracy'])"
   ]
  },
  {
   "cell_type": "code",
   "execution_count": 29,
   "metadata": {},
   "outputs": [
    {
     "name": "stdout",
     "output_type": "stream",
     "text": [
      "Not using data augmentation.\n",
      "Train on 50000 samples, validate on 10000 samples\n",
      "Epoch 1/25\n",
      "50000/50000 [==============================] - 202s 4ms/step - loss: 1.7924 - acc: 0.3449 - val_loss: 1.4934 - val_acc: 0.4671\n",
      "Epoch 2/25\n",
      "50000/50000 [==============================] - 200s 4ms/step - loss: 1.4663 - acc: 0.4700 - val_loss: 1.3119 - val_acc: 0.5310\n",
      "Epoch 3/25\n",
      "50000/50000 [==============================] - 210s 4ms/step - loss: 1.3291 - acc: 0.5249 - val_loss: 1.2527 - val_acc: 0.5583\n",
      "Epoch 4/25\n",
      "50000/50000 [==============================] - 208s 4ms/step - loss: 1.2312 - acc: 0.5652 - val_loss: 1.1471 - val_acc: 0.5934\n",
      "Epoch 5/25\n",
      "50000/50000 [==============================] - 205s 4ms/step - loss: 1.1603 - acc: 0.5916 - val_loss: 1.0923 - val_acc: 0.6196\n",
      "Epoch 6/25\n",
      "50000/50000 [==============================] - 202s 4ms/step - loss: 1.0946 - acc: 0.6152 - val_loss: 1.0620 - val_acc: 0.6337\n",
      "Epoch 7/25\n",
      "50000/50000 [==============================] - 205s 4ms/step - loss: 1.0442 - acc: 0.6347 - val_loss: 0.9862 - val_acc: 0.6535\n",
      "Epoch 8/25\n",
      "50000/50000 [==============================] - 201s 4ms/step - loss: 0.9989 - acc: 0.6523 - val_loss: 0.9294 - val_acc: 0.6797\n",
      "Epoch 9/25\n",
      "50000/50000 [==============================] - 205s 4ms/step - loss: 0.9639 - acc: 0.6630 - val_loss: 0.9178 - val_acc: 0.6756\n",
      "Epoch 10/25\n",
      "50000/50000 [==============================] - 205s 4ms/step - loss: 0.9329 - acc: 0.6742 - val_loss: 0.8855 - val_acc: 0.6892\n",
      "Epoch 11/25\n",
      "50000/50000 [==============================] - 203s 4ms/step - loss: 0.9029 - acc: 0.6849 - val_loss: 0.8775 - val_acc: 0.6931\n",
      "Epoch 12/25\n",
      "50000/50000 [==============================] - 206s 4ms/step - loss: 0.8760 - acc: 0.6958 - val_loss: 0.8467 - val_acc: 0.7082\n",
      "Epoch 13/25\n",
      "50000/50000 [==============================] - 205s 4ms/step - loss: 0.8530 - acc: 0.7050 - val_loss: 0.8235 - val_acc: 0.7030\n",
      "Epoch 14/25\n",
      "50000/50000 [==============================] - 195s 4ms/step - loss: 0.8331 - acc: 0.7103 - val_loss: 0.7858 - val_acc: 0.7246\n",
      "Epoch 15/25\n",
      "50000/50000 [==============================] - 184s 4ms/step - loss: 0.8177 - acc: 0.7183 - val_loss: 0.8403 - val_acc: 0.7095\n",
      "Epoch 16/25\n",
      "50000/50000 [==============================] - 201s 4ms/step - loss: 0.7975 - acc: 0.7245 - val_loss: 0.7825 - val_acc: 0.7300\n",
      "Epoch 17/25\n",
      "50000/50000 [==============================] - 202s 4ms/step - loss: 0.7848 - acc: 0.7281 - val_loss: 0.7707 - val_acc: 0.7341\n",
      "Epoch 18/25\n",
      "50000/50000 [==============================] - 204s 4ms/step - loss: 0.7685 - acc: 0.7353 - val_loss: 0.7537 - val_acc: 0.7388\n",
      "Epoch 19/25\n",
      "50000/50000 [==============================] - 208s 4ms/step - loss: 0.7571 - acc: 0.7411 - val_loss: 0.7352 - val_acc: 0.7478\n",
      "Epoch 20/25\n",
      "50000/50000 [==============================] - 203s 4ms/step - loss: 0.7544 - acc: 0.7421 - val_loss: 0.7317 - val_acc: 0.7528\n",
      "Epoch 21/25\n",
      "50000/50000 [==============================] - 190s 4ms/step - loss: 0.7395 - acc: 0.7452 - val_loss: 0.7174 - val_acc: 0.7584\n",
      "Epoch 22/25\n",
      "50000/50000 [==============================] - 195s 4ms/step - loss: 0.7303 - acc: 0.7512 - val_loss: 0.7220 - val_acc: 0.7563\n",
      "Epoch 23/25\n",
      "50000/50000 [==============================] - 197s 4ms/step - loss: 0.7254 - acc: 0.7523 - val_loss: 0.7515 - val_acc: 0.7491\n",
      "Epoch 24/25\n",
      "50000/50000 [==============================] - 203s 4ms/step - loss: 0.7171 - acc: 0.7570 - val_loss: 0.7063 - val_acc: 0.7598\n",
      "Epoch 25/25\n",
      "50000/50000 [==============================] - 206s 4ms/step - loss: 0.7150 - acc: 0.7563 - val_loss: 0.7111 - val_acc: 0.7630\n"
     ]
    }
   ],
   "source": [
    "x_train = x_train.astype('float32')\n",
    "x_test = x_test.astype('float32')\n",
    "x_train /= 255\n",
    "x_test /= 255\n",
    "\n",
    "if not data_augmentation:\n",
    "    print('Not using data augmentation.')\n",
    "    model.fit(x_train, y_train,\n",
    "              batch_size=batch_size,\n",
    "              epochs=epochs,\n",
    "              validation_data=(x_test, y_test),\n",
    "              shuffle=True)\n",
    "else:\n",
    "    print('Using real-time data augmentation.')\n",
    "    # This will do preprocessing and realtime data augmentation:\n",
    "    datagen = ImageDataGenerator(\n",
    "        featurewise_center=False,  # set input mean to 0 over the dataset\n",
    "        samplewise_center=False,  # set each sample mean to 0\n",
    "        featurewise_std_normalization=False,  # divide inputs by std of the dataset\n",
    "        samplewise_std_normalization=False,  # divide each input by its std\n",
    "        zca_whitening=False,  # apply ZCA whitening\n",
    "        zca_epsilon=1e-06,  # epsilon for ZCA whitening\n",
    "        rotation_range=0,  # randomly rotate images in the range (degrees, 0 to 180)\n",
    "        # randomly shift images horizontally (fraction of total width)\n",
    "        width_shift_range=0.1,\n",
    "        # randomly shift images vertically (fraction of total height)\n",
    "        height_shift_range=0.1,\n",
    "        shear_range=0.,  # set range for random shear\n",
    "        zoom_range=0.,  # set range for random zoom\n",
    "        channel_shift_range=0.,  # set range for random channel shifts\n",
    "        # set mode for filling points outside the input boundaries\n",
    "        fill_mode='nearest',\n",
    "        cval=0.,  # value used for fill_mode = \"constant\"\n",
    "        horizontal_flip=True,  # randomly flip images\n",
    "        vertical_flip=False,  # randomly flip images\n",
    "        # set rescaling factor (applied before any other transformation)\n",
    "        rescale=None,\n",
    "        # set function that will be applied on each input\n",
    "        preprocessing_function=None,\n",
    "        # image data format, either \"channels_first\" or \"channels_last\"\n",
    "        data_format=None,\n",
    "        # fraction of images reserved for validation (strictly between 0 and 1)\n",
    "        validation_split=0.0)\n",
    "\n",
    "    # Compute quantities required for feature-wise normalization\n",
    "    # (std, mean, and principal components if ZCA whitening is applied).\n",
    "    datagen.fit(x_train)\n",
    "\n",
    "    # Fit the model on the batches generated by datagen.flow().\n",
    "    model.fit_generator(datagen.flow(x_train, y_train,\n",
    "                                     batch_size=batch_size),\n",
    "                        epochs=epochs,\n",
    "                        validation_data=(x_test, y_test),\n",
    "                        steps_per_epoch=500,\n",
    "                        workers=4)"
   ]
  },
  {
   "cell_type": "code",
   "execution_count": 30,
   "metadata": {},
   "outputs": [
    {
     "name": "stdout",
     "output_type": "stream",
     "text": [
      "Saved trained model at /home/sol/Documents/MCS/ThesisProject/Test/CNN_ImageClass/saved_models/keras_cifar10_trained_model.h5 \n"
     ]
    }
   ],
   "source": [
    "# Save model and weights\n",
    "if not os.path.isdir(save_dir):\n",
    "    os.makedirs(save_dir)\n",
    "model_path = os.path.join(save_dir, model_name)\n",
    "model.save(model_path)\n",
    "print('Saved trained model at %s ' % model_path)\n"
   ]
  },
  {
   "cell_type": "code",
   "execution_count": 31,
   "metadata": {},
   "outputs": [
    {
     "name": "stdout",
     "output_type": "stream",
     "text": [
      "10000/10000 [==============================] - 10s 965us/step\n",
      "Test loss: 0.7111407023429871\n",
      "Test accuracy: 0.763\n"
     ]
    }
   ],
   "source": [
    "# Score trained model.\n",
    "scores = model.evaluate(x_test, y_test, verbose=1)\n",
    "print('Test loss:', scores[0])\n",
    "print('Test accuracy:', scores[1])"
   ]
  },
  {
   "cell_type": "code",
   "execution_count": 33,
   "metadata": {},
   "outputs": [
    {
     "data": {
      "text/plain": [
       "(32, 32, 3)"
      ]
     },
     "execution_count": 33,
     "metadata": {},
     "output_type": "execute_result"
    }
   ],
   "source": [
    "x_train.shape[1:]"
   ]
  },
  {
   "cell_type": "code",
   "execution_count": 50,
   "metadata": {},
   "outputs": [],
   "source": [
    "import numpy as np\n",
    "from keras.preprocessing import image\n",
    "\n",
    "test_image = image.load_img('testImgs/cat.4019.jpg', target_size = (32,32))\n",
    "test_image = image.img_to_array(test_image)\n",
    "test_image = np.expand_dims(test_image, axis = 0)\n",
    "\n"
   ]
  },
  {
   "cell_type": "code",
   "execution_count": 51,
   "metadata": {},
   "outputs": [
    {
     "name": "stdout",
     "output_type": "stream",
     "text": [
      "[[0.0000000e+00 9.3064081e-34 0.0000000e+00 1.0000000e+00 0.0000000e+00\n",
      "  3.3007904e-12 0.0000000e+00 0.0000000e+00 0.0000000e+00 5.0570725e-09]]\n"
     ]
    }
   ],
   "source": [
    "result = model.predict(test_image)\n",
    "print(result)"
   ]
  },
  {
   "cell_type": "code",
   "execution_count": 44,
   "metadata": {},
   "outputs": [
    {
     "ename": "AttributeError",
     "evalue": "'numpy.ndarray' object has no attribute 'class_indices'",
     "output_type": "error",
     "traceback": [
      "\u001b[0;31m---------------------------------------------------------------------------\u001b[0m",
      "\u001b[0;31mAttributeError\u001b[0m                            Traceback (most recent call last)",
      "\u001b[0;32m<ipython-input-44-58f3e6534a23>\u001b[0m in \u001b[0;36m<module>\u001b[0;34m\u001b[0m\n\u001b[0;32m----> 1\u001b[0;31m \u001b[0mx_train\u001b[0m\u001b[0;34m.\u001b[0m\u001b[0mclass_indices\u001b[0m\u001b[0;34m\u001b[0m\u001b[0;34m\u001b[0m\u001b[0m\n\u001b[0m",
      "\u001b[0;31mAttributeError\u001b[0m: 'numpy.ndarray' object has no attribute 'class_indices'"
     ]
    }
   ],
   "source": [
    "x_train.class_indices"
   ]
  },
  {
   "cell_type": "code",
   "execution_count": null,
   "metadata": {},
   "outputs": [],
   "source": []
  }
 ],
 "metadata": {
  "kernelspec": {
   "display_name": "Python 3",
   "language": "python",
   "name": "python3"
  },
  "language_info": {
   "codemirror_mode": {
    "name": "ipython",
    "version": 3
   },
   "file_extension": ".py",
   "mimetype": "text/x-python",
   "name": "python",
   "nbconvert_exporter": "python",
   "pygments_lexer": "ipython3",
   "version": "3.6.7"
  }
 },
 "nbformat": 4,
 "nbformat_minor": 2
}
